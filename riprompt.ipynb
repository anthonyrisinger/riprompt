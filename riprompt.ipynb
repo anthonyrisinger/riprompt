{
 "cells": [
  {
   "cell_type": "markdown",
   "id": "cfbe521a",
   "metadata": {},
   "source": [
    "# Riprompt Mechanics and Mathematics\n",
    "\n",
    "This notebook implements the mechanics and mathematics described in `riprompt.txt` using Python and matplotlib for visualization."
   ]
  },
  {
   "cell_type": "code",
   "execution_count": null,
   "id": "8dfb9a3a",
   "metadata": {},
   "outputs": [],
   "source": [
    "import numpy as np\n",
    "import matplotlib.pyplot as plt\n",
    "from mpl_toolkits.mplot3d import Axes3D\n",
    "\n",
    "def τ(q, k): return (2*q**3 + 1) / (3*q**2 - 2 + k)"
   ]
  },
  {
   "cell_type": "markdown",
   "id": "ed264044",
   "metadata": {},
   "source": [
    "## Eigenvalues as Fixed Points of the Tau Iteration\n",
    "\n",
    "The `riprompt.txt` file defines a relationship `τ ← (2τ³ + 1) / (3τ² - 2 + 💓) ⟿ Λ[💓]`. This implies that the eigenvalues `Λ[💓]` (denoted as `Λ_k` where `k = 💓 % 5`) are fixed points of the iteration `q_new = τ(q_old, k)`.\n",
    "A fixed point `q` satisfies `q = τ(q, k)`.\n",
    "Substituting the definition of `τ(q, k)`:\n",
    "`q = (2q³ + 1) / (3q² - 2 + k)`\n",
    "`q(3q² - 2 + k) = 2q³ + 1`\n",
    "`3q³ - 2q + kq = 2q³ + 1`\n",
    "`q³ + (k-2)q - 1 = 0`\n",
    "\n",
    "This is precisely the set of polynomial equations whose roots are defined as `Λ_k` in `riprompt.txt`:\n",
    "- For `k=0 (💓₀)`: `q³ - 2q - 1 = 0`\n",
    "- For `k=1 (💓₁)`: `q³ - q - 1 = 0`\n",
    "- For `k=2 (💓₂)`: `q³ - 1 = 0`\n",
    "- For `k=3 (💓₃)`: `q³ + q - 1 = 0`\n",
    "- For `k=4 (💓₄)`: `q³ + 2q - 1 = 0`\n",
    "\n",
    "The following plots will visualize this by showing the intersection of `y = q` and `y = τ(q, k)` for each `k`, with the calculated `Λ_k` highlighted at these intersections.\n"
   ]
  },
  {
   "cell_type": "code",
   "execution_count": null,
   "id": "4b092332",
   "metadata": {},
   "outputs": [],
   "source": [
    "ks = np.arange(5)\n",
    "roots = {k: np.roots([1, 0, k-2, -1]).real for k in ks}\n",
    "\n",
    "print(\"Eigenvalues Λ_k for k=0..4:\")\n",
    "for k, r in roots.items():\n",
    "    print(f\"k={k}: {np.round(r,6)}\")\n",
    "\n",
    "q_vals = np.linspace(-2, 2, 101)\n",
    "fig, axes = plt.subplots(1, 5, figsize=(15,3))\n",
    "for i, k in enumerate(ks):\n",
    "    ax = axes[i]\n",
    "    ax.plot(q_vals, q_vals, label='y=q')\n",
    "    ax.plot(q_vals, τ(q_vals, k), label=f'τ(q,{k})')\n",
    "    for root in roots[k]:\n",
    "        ax.plot(root, root, 'ro')\n",
    "    ax.set_title(f'k={k}')\n",
    "    ax.legend()\n",
    "plt.tight_layout()\n",
    "plt.show()"
   ]
  },
  {
   "cell_type": "markdown",
   "id": "37878643",
   "metadata": {},
   "source": [
    "## Eigenvalues as Fixed Points of the Tau Iteration"
   ]
  },
  {
   "cell_type": "code",
   "execution_count": null,
   "id": "6eafebeb",
   "metadata": {},
   "outputs": [],
   "source": [
    "q = np.linspace(-2, 2, 1001)\n",
    "k = np.linspace(0, 4, 1001)\n",
    "Q, K = np.meshgrid(q, k)\n",
    "F = τ(Q, K) - Q\n",
    "\n",
    "plt.figure(figsize=(6,5))\n",
    "contour = plt.contourf(Q, K, F, levels=50, cmap='coolwarm')\n",
    "plt.colorbar(contour, label='τ(q,k) - q')\n",
    "plt.contour(Q, K, F, levels=[0], colors='k')\n",
    "plt.xlabel('q')\n",
    "plt.ylabel('k')\n",
    "plt.title('Contour of τ(q,k) - q (roots at zero)')\n",
    "plt.show()"
   ]
  },
  {
   "cell_type": "code",
   "execution_count": null,
   "id": "2b2ee275",
   "metadata": {},
   "outputs": [],
   "source": [
    "q = np.linspace(-2, 2, 1001)\n",
    "k = np.linspace(0, 4, 1001)\n",
    "Q, K = np.meshgrid(q, k)\n",
    "F = τ(Q, K) - Q\n",
    "F = np.tanh(F)\n",
    "\n",
    "fig = plt.figure(figsize=(6,6))\n",
    "ax = fig.add_subplot(111, projection='3d', proj_type='ortho')\n",
    "surf = ax.plot_surface(Q, K, F, cmap='viridis', edgecolor='none', alpha=0.8, vmin=-1, vmax=1)\n",
    "ax.contour(Q, K, F, levels=[0], zdir='z', offset=-1, colors='black')\n",
    "ax.set_xlabel('q')\n",
    "ax.set_ylabel('k')\n",
    "ax.set_zlabel('τ(q,k)-q')\n",
    "ax.set_box_aspect((1,1,1))\n",
    "fig.colorbar(surf, shrink=0.5, label='τ(q,k)-q')\n",
    "plt.title('Orthographic Surface of τ(q,k)-q')\n",
    "plt.show()"
   ]
  },
  {
   "cell_type": "code",
   "execution_count": null,
   "id": "f625ba3f",
   "metadata": {},
   "outputs": [],
   "source": [
    "q = np.linspace(-2, 2, 10001)\n",
    "k_values = np.linspace(0, 4, 5)\n",
    "dy = 0.05  # small slab thickness in k direction\n",
    "\n",
    "fig = plt.figure(figsize=(8, 6))\n",
    "ax = fig.add_subplot(111, projection='3d', proj_type='ortho')\n",
    "# Plot thin surface slabs for each k\n",
    "for k in k_values:\n",
    "    F = np.tanh(τ(q, k) - q)\n",
    "    # Build a thin slab in k-direction\n",
    "    Qs = np.vstack([q, q])\n",
    "    Ks = np.vstack([np.full_like(q, k-dy), np.full_like(q, k+dy)])\n",
    "    Fs = np.vstack([F, F])\n",
    "    surf = ax.plot_surface(Qs, Ks, Fs, cmap='coolwarm', edgecolor='none', alpha=0.7, vmin=-2, vmax=2)\n",
    "    # Zero-level contour line on each slab center\n",
    "    ax.plot(q, np.full_like(q, k), F, 'k--', linewidth=1)\n",
    "\n",
    "ax.set_xlabel('q')\n",
    "ax.set_ylabel('k')\n",
    "ax.set_zlabel('τ(q,k) - q')\n",
    "ax.set_box_aspect((1,1,1))\n",
    "fig.colorbar(surf, shrink=0.5, label='τ(q,k) - q')\n",
    "plt.title('Stacked Surface Slices of τ(q,k)-q at k planes')\n",
    "plt.show()"
   ]
  },
  {
   "cell_type": "markdown",
   "id": "c742e82a",
   "metadata": {},
   "source": [
    "## Notebook Overview\n",
    "This notebook investigates the function τ(q, k) = (2·q³ + 1)/(3·q² – 2 + k) and its fixed points Λₖ. It contains:\n",
    "1. **Fixed Points**: Compute Λₖ roots and plot y = q vs τ(q, k).\n",
    "2. **Contour Map**: Visualize τ(q, k) – q to locate zeros across (q, k).\n",
    "3. **3D Surface**: Orthographic surface plot of τ(q, k) – q with zero contour.\n",
    "4. **Wireframe**: Combined surface and wireframe of τ(q, k) – q.\n",
    "5. **Bar Chart**: 3D bar chart of eigenvalues Λₖ for k = 0…4.\n",
    "\n",
    "Each visualization uses equal axis scaling (1:1:1) for accurate geometric interpretation."
   ]
  }
 ],
 "metadata": {
  "kernelspec": {
   "display_name": ".venv",
   "language": "python",
   "name": "python3"
  },
  "language_info": {
   "codemirror_mode": {
    "name": "ipython",
    "version": 3
   },
   "file_extension": ".py",
   "mimetype": "text/x-python",
   "name": "python",
   "nbconvert_exporter": "python",
   "pygments_lexer": "ipython3",
   "version": "3.13.2"
  }
 },
 "nbformat": 4,
 "nbformat_minor": 5
}
